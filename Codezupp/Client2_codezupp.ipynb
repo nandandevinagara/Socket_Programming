{
 "cells": [
  {
   "cell_type": "code",
   "execution_count": 1,
   "metadata": {},
   "outputs": [
    {
     "name": "stdout",
     "output_type": "stream",
     "text": [
      "Waiting for connection\n",
      "Say Something: r\n",
      "Server Says: r\n",
      "Say Something: tea\n",
      "Server Says: tea\n",
      "Say Something: close\n",
      "closing\n",
      "Say Something: e\n",
      "Connection closed by server, try again\n"
     ]
    }
   ],
   "source": [
    "import socket\n",
    "\n",
    "ClientSocket = socket.socket()\n",
    "host = '127.0.0.1'\n",
    "port = 1233\n",
    "\n",
    "print('Waiting for connection')\n",
    "try:\n",
    "    ClientSocket.connect((host, port))\n",
    "except socket.error as e:\n",
    "    print(str(e))\n",
    "\n",
    "Response = ClientSocket.recv(1024)\n",
    "while True:\n",
    "    Input = input('Say Something: ')\n",
    "    #input is a blocking function, hence here in this case, there is no need of non-blocking flag setting\n",
    "    try:\n",
    "        ClientSocket.send(str.encode(Input))   \n",
    "        Response = ClientSocket.recv(1024)\n",
    "    except ConnectionAbortedError:\n",
    "        print(\"Connection closed by server, try again\")\n",
    "        break\n",
    "    finally:\n",
    "        pass\n",
    "    print(Response.decode('utf-8'))\n",
    "\n",
    "ClientSocket.close()"
   ]
  }
 ],
 "metadata": {
  "kernelspec": {
   "display_name": "Python 3",
   "language": "python",
   "name": "python3"
  },
  "language_info": {
   "codemirror_mode": {
    "name": "ipython",
    "version": 3
   },
   "file_extension": ".py",
   "mimetype": "text/x-python",
   "name": "python",
   "nbconvert_exporter": "python",
   "pygments_lexer": "ipython3",
   "version": "3.7.6"
  }
 },
 "nbformat": 4,
 "nbformat_minor": 4
}
