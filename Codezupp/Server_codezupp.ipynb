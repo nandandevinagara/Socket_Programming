{
 "cells": [
  {
   "cell_type": "code",
   "execution_count": null,
   "metadata": {},
   "outputs": [
    {
     "name": "stdout",
     "output_type": "stream",
     "text": [
      "Waitiing for a Connection..\n",
      "Connected to: 127.0.0.1:49419\n",
      "Thread Number: 1\n",
      "Connected to: 127.0.0.1:49427\n",
      "Thread Number: 2\n",
      "Connected to: 127.0.0.1:49428\n",
      "Thread Number: 3\n",
      "Connected to: 127.0.0.1:49435\n",
      "Thread Number: 4\n",
      "Connected to: 127.0.0.1:49571\n",
      "Thread Number: 5\n",
      "Connected to: 127.0.0.1:49574\n",
      "Thread Number: 6\n",
      "Connected to: 127.0.0.1:49577\n",
      "Thread Number: 7\n",
      "Connected to: 127.0.0.1:49694\n",
      "Thread Number: 8\n",
      "Connected to: 127.0.0.1:49697\n",
      "Thread Number: 9\n"
     ]
    }
   ],
   "source": [
    "import socket\n",
    "import os\n",
    "from _thread import *\n",
    "\n",
    "ServerSocket = socket.socket()\n",
    "host = '127.0.0.1'\n",
    "port = 1233\n",
    "ThreadCount = 0\n",
    "try:\n",
    "    ServerSocket.bind((host, port))\n",
    "except socket.error as e:\n",
    "    print(str(e))\n",
    "\n",
    "print('Waitiing for a Connection..')\n",
    "ServerSocket.listen(5)\n",
    "\n",
    "\n",
    "def threaded_client(connection):\n",
    "    connection.send(str.encode('Welcome to the Servern'))\n",
    "    while True:\n",
    "        data = connection.recv(2048)\n",
    "        reply = 'Server Says: ' + data.decode('utf-8')\n",
    "        if not data:\n",
    "            break\n",
    "        if (data.decode('utf-8') == \"close\"):\n",
    "            connection.sendall(str.encode(\"Shutting Down the connection\"))\n",
    "            break\n",
    "        connection.sendall(str.encode(reply))\n",
    "    connection.close()\n",
    "\n",
    "while True:\n",
    "    Client, address = ServerSocket.accept()\n",
    "    print('Connected to: ' + address[0] + ':' + str(address[1]))\n",
    "    start_new_thread(threaded_client, (Client, ))\n",
    "    ThreadCount += 1\n",
    "    print('Thread Number: ' + str(ThreadCount))\n",
    "ServerSocket.close()"
   ]
  }
 ],
 "metadata": {
  "kernelspec": {
   "display_name": "Python 3",
   "language": "python",
   "name": "python3"
  },
  "language_info": {
   "codemirror_mode": {
    "name": "ipython",
    "version": 3
   },
   "file_extension": ".py",
   "mimetype": "text/x-python",
   "name": "python",
   "nbconvert_exporter": "python",
   "pygments_lexer": "ipython3",
   "version": "3.7.6"
  }
 },
 "nbformat": 4,
 "nbformat_minor": 4
}
