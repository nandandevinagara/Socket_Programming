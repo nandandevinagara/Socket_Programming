{
 "cells": [
  {
   "cell_type": "code",
   "execution_count": 21,
   "metadata": {
    "ExecuteTime": {
     "end_time": "2021-05-09T09:14:22.923585Z",
     "start_time": "2021-05-09T09:14:22.909937Z"
    }
   },
   "outputs": [],
   "source": [
    "import socket\n",
    "from datetime import datetime\n",
    "s=socket.socket(socket.AF_INET, socket.SOCK_STREAM)\n",
    "s.connect(('127.0.0.1', 4444))"
   ]
  },
  {
   "cell_type": "code",
   "execution_count": 9,
   "metadata": {
    "ExecuteTime": {
     "end_time": "2021-05-09T06:13:38.052565Z",
     "start_time": "2021-05-09T06:13:38.030792Z"
    }
   },
   "outputs": [
    {
     "data": {
      "text/plain": [
       "8"
      ]
     },
     "execution_count": 9,
     "metadata": {},
     "output_type": "execute_result"
    }
   ],
   "source": [
    "s.send(\"sending2\".encode('utf-8'))"
   ]
  },
  {
   "cell_type": "code",
   "execution_count": 25,
   "metadata": {
    "ExecuteTime": {
     "end_time": "2021-05-09T10:21:44.915396Z",
     "start_time": "2021-05-09T10:21:44.747150Z"
    }
   },
   "outputs": [
    {
     "name": "stdout",
     "output_type": "stream",
     "text": [
      "0 time= 2021-05-09 15:51:44.750765  ack=  Hello Client, your data is received\n",
      "1 time= 2021-05-09 15:51:44.754027  ack=  Hello Client, your data is received\n",
      "2 time= 2021-05-09 15:51:44.755024  ack=  Hello Client, your data is received\n",
      "3 time= 2021-05-09 15:51:44.757035  ack=  Hello Client, your data is received\n",
      "4 time= 2021-05-09 15:51:44.758035  ack=  Hello Client, your data is received\n",
      "5 time= 2021-05-09 15:51:44.759625  ack=  Hello Client, your data is received\n",
      "6 time= 2021-05-09 15:51:44.760715  ack=  Hello Client, your data is received\n",
      "7 time= 2021-05-09 15:51:44.760715  ack=  Hello Client, your data is received\n",
      "8 time= 2021-05-09 15:51:44.762712  ack=  Hello Client, your data is received\n",
      "9 time= 2021-05-09 15:51:44.764875  ack=  Hello Client, your data is received\n",
      "10 time= 2021-05-09 15:51:44.764875  ack=  Hello Client, your data is received\n",
      "11 time= 2021-05-09 15:51:44.768699  ack=  Hello Client, your data is received\n",
      "12 time= 2021-05-09 15:51:44.771696  ack=  Hello Client, your data is received\n",
      "13 time= 2021-05-09 15:51:44.771696  ack=  Hello Client, your data is received\n",
      "14 time= 2021-05-09 15:51:44.771696  ack=  Hello Client, your data is received\n",
      "15 time= 2021-05-09 15:51:44.771696  ack=  Hello Client, your data is received\n",
      "16 time= 2021-05-09 15:51:44.771696  ack=  Hello Client, your data is received\n",
      "17 time= 2021-05-09 15:51:44.780492  ack=  Hello Client, your data is received\n",
      "18 time= 2021-05-09 15:51:44.780492  ack=  Hello Client, your data is received\n",
      "19 time= 2021-05-09 15:51:44.780492  ack=  Hello Client, your data is received\n",
      "20 time= 2021-05-09 15:51:44.785252  ack=  Hello Client, your data is received\n",
      "21 time= 2021-05-09 15:51:44.786301  ack=  Hello Client, your data is received\n",
      "22 time= 2021-05-09 15:51:44.786301  ack=  Hello Client, your data is received\n",
      "23 time= 2021-05-09 15:51:44.786301  ack=  Hello Client, your data is received\n",
      "24 time= 2021-05-09 15:51:44.786301  ack=  Hello Client, your data is received\n",
      "25 time= 2021-05-09 15:51:44.786301  ack=  Hello Client, your data is received\n",
      "26 time= 2021-05-09 15:51:44.786301  ack=  Hello Client, your data is received\n",
      "27 time= 2021-05-09 15:51:44.794580  ack=  Hello Client, your data is received\n",
      "28 time= 2021-05-09 15:51:44.794580  ack=  Hello Client, your data is received\n",
      "29 time= 2021-05-09 15:51:44.794580  ack=  Hello Client, your data is received\n",
      "30 time= 2021-05-09 15:51:44.794580  ack=  Hello Client, your data is received\n",
      "31 time= 2021-05-09 15:51:44.794580  ack=  Hello Client, your data is received\n",
      "32 time= 2021-05-09 15:51:44.794580  ack=  Hello Client, your data is received\n",
      "33 time= 2021-05-09 15:51:44.794580  ack=  Hello Client, your data is received\n",
      "34 time= 2021-05-09 15:51:44.794580  ack=  Hello Client, your data is received\n",
      "35 time= 2021-05-09 15:51:44.804873  ack=  Hello Client, your data is received\n",
      "36 time= 2021-05-09 15:51:44.804873  ack=  Hello Client, your data is received\n",
      "37 time= 2021-05-09 15:51:44.804873  ack=  Hello Client, your data is received\n",
      "38 time= 2021-05-09 15:51:44.804873  ack=  Hello Client, your data is received\n",
      "39 time= 2021-05-09 15:51:44.813037  ack=  Hello Client, your data is received\n",
      "40 time= 2021-05-09 15:51:44.817505  ack=  Hello Client, your data is received\n",
      "41 time= 2021-05-09 15:51:44.818549  ack=  Hello Client, your data is received\n",
      "42 time= 2021-05-09 15:51:44.818549  ack=  Hello Client, your data is received\n",
      "43 time= 2021-05-09 15:51:44.818549  ack=  Hello Client, your data is received\n",
      "44 time= 2021-05-09 15:51:44.818549  ack=  Hello Client, your data is received\n",
      "45 time= 2021-05-09 15:51:44.818549  ack=  Hello Client, your data is received\n",
      "46 time= 2021-05-09 15:51:44.826783  ack=  Hello Client, your data is received\n",
      "47 time= 2021-05-09 15:51:44.826783  ack=  Hello Client, your data is received\n",
      "48 time= 2021-05-09 15:51:44.826783  ack=  Hello Client, your data is received\n",
      "49 time= 2021-05-09 15:51:44.826783  ack=  Hello Client, your data is received\n",
      "50 time= 2021-05-09 15:51:44.826783  ack=  Hello Client, your data is received\n",
      "51 time= 2021-05-09 15:51:44.826783  ack=  Hello Client, your data is received\n",
      "52 time= 2021-05-09 15:51:44.826783  ack=  Hello Client, your data is received\n",
      "53 time= 2021-05-09 15:51:44.826783  ack=  Hello Client, your data is received\n",
      "54 time= 2021-05-09 15:51:44.826783  ack=  Hello Client, your data is received\n",
      "55 time= 2021-05-09 15:51:44.826783  ack=  Hello Client, your data is received\n",
      "56 time= 2021-05-09 15:51:44.842388  ack=  Hello Client, your data is received\n",
      "57 time= 2021-05-09 15:51:44.842388  ack=  Hello Client, your data is received\n",
      "58 time= 2021-05-09 15:51:44.842388  ack=  Hello Client, your data is received\n",
      "59 time= 2021-05-09 15:51:44.842388  ack=  Hello Client, your data is received\n",
      "60 time= 2021-05-09 15:51:44.842388  ack=  Hello Client, your data is received\n",
      "61 time= 2021-05-09 15:51:44.842388  ack=  Hello Client, your data is received\n",
      "62 time= 2021-05-09 15:51:44.842388  ack=  Hello Client, your data is received\n",
      "63 time= 2021-05-09 15:51:44.842388  ack=  Hello Client, your data is received\n",
      "64 time= 2021-05-09 15:51:44.842388  ack=  Hello Client, your data is received\n",
      "65 time= 2021-05-09 15:51:44.856151  ack=  Hello Client, your data is received\n",
      "66 time= 2021-05-09 15:51:44.857146  ack=  Hello Client, your data is received\n",
      "67 time= 2021-05-09 15:51:44.859142  ack=  Hello Client, your data is received\n",
      "68 time= 2021-05-09 15:51:44.860136  ack=  Hello Client, your data is received\n",
      "69 time= 2021-05-09 15:51:44.860136  ack=  Hello Client, your data is received\n",
      "70 time= 2021-05-09 15:51:44.860136  ack=  Hello Client, your data is received\n",
      "71 time= 2021-05-09 15:51:44.860136  ack=  Hello Client, your data is received\n",
      "72 time= 2021-05-09 15:51:44.860136  ack=  Hello Client, your data is received\n",
      "73 time= 2021-05-09 15:51:44.860136  ack=  Hello Client, your data is received\n",
      "74 time= 2021-05-09 15:51:44.871265  ack=  Hello Client, your data is received\n",
      "75 time= 2021-05-09 15:51:44.871265  ack=  Hello Client, your data is received\n",
      "76 time= 2021-05-09 15:51:44.873240  ack=  Hello Client, your data is received\n",
      "77 time= 2021-05-09 15:51:44.873240  ack=  Hello Client, your data is received\n",
      "78 time= 2021-05-09 15:51:44.873240  ack=  Hello Client, your data is received\n",
      "79 time= 2021-05-09 15:51:44.873240  ack=  Hello Client, your data is received\n",
      "80 time= 2021-05-09 15:51:44.873240  ack=  Hello Client, your data is received\n",
      "81 time= 2021-05-09 15:51:44.873240  ack=  Hello Client, your data is received\n",
      "82 time= 2021-05-09 15:51:44.873240  ack=  Hello Client, your data is received\n",
      "83 time= 2021-05-09 15:51:44.873240  ack=  Hello Client, your data is received\n",
      "84 time= 2021-05-09 15:51:44.873240  ack=  Hello Client, your data is received\n",
      "85 time= 2021-05-09 15:51:44.873240  ack=  Hello Client, your data is received\n",
      "86 time= 2021-05-09 15:51:44.873240  ack=  Hello Client, your data is received\n",
      "87 time= 2021-05-09 15:51:44.889148  ack=  Hello Client, your data is received\n",
      "88 time= 2021-05-09 15:51:44.890144  ack=  Hello Client, your data is received\n",
      "89 time= 2021-05-09 15:51:44.890144  ack=  Hello Client, your data is received\n",
      "90 time= 2021-05-09 15:51:44.890144  ack=  Hello Client, your data is received\n",
      "91 time= 2021-05-09 15:51:44.890144  ack=  Hello Client, your data is received\n",
      "92 time= 2021-05-09 15:51:44.890144  ack=  Hello Client, your data is received\n",
      "93 time= 2021-05-09 15:51:44.890144  ack=  Hello Client, your data is received\n",
      "94 time= 2021-05-09 15:51:44.890144  ack=  Hello Client, your data is received\n",
      "95 time= 2021-05-09 15:51:44.890144  ack=  Hello Client, your data is received\n",
      "96 time= 2021-05-09 15:51:44.890144  ack=  Hello Client, your data is received\n",
      "97 time= 2021-05-09 15:51:44.890144  ack=  Hello Client, your data is received\n",
      "98 time= 2021-05-09 15:51:44.905822  ack=  Hello Client, your data is received\n",
      "99 time= 2021-05-09 15:51:44.905822  ack=  Hello Client, your data is received\n"
     ]
    }
   ],
   "source": [
    "for i in range(100):\n",
    "    s.sendall(\"sending2\".encode('utf-8'))\n",
    "    ack=s.recv(1000)\n",
    "    current_date_time = datetime.now().strftime('%Y-%m-%d %H:%M:%S.%f')\n",
    "    print(i,\"time=\",current_date_time, \" ack= \",ack.decode())"
   ]
  },
  {
   "cell_type": "code",
   "execution_count": 26,
   "metadata": {
    "ExecuteTime": {
     "end_time": "2021-05-09T10:21:51.736807Z",
     "start_time": "2021-05-09T10:21:51.730047Z"
    }
   },
   "outputs": [],
   "source": [
    "s.close()"
   ]
  }
 ],
 "metadata": {
  "kernelspec": {
   "display_name": "Python 3",
   "language": "python",
   "name": "python3"
  },
  "language_info": {
   "codemirror_mode": {
    "name": "ipython",
    "version": 3
   },
   "file_extension": ".py",
   "mimetype": "text/x-python",
   "name": "python",
   "nbconvert_exporter": "python",
   "pygments_lexer": "ipython3",
   "version": "3.7.6"
  },
  "varInspector": {
   "cols": {
    "lenName": 16,
    "lenType": 16,
    "lenVar": 40
   },
   "kernels_config": {
    "python": {
     "delete_cmd_postfix": "",
     "delete_cmd_prefix": "del ",
     "library": "var_list.py",
     "varRefreshCmd": "print(var_dic_list())"
    },
    "r": {
     "delete_cmd_postfix": ") ",
     "delete_cmd_prefix": "rm(",
     "library": "var_list.r",
     "varRefreshCmd": "cat(var_dic_list()) "
    }
   },
   "position": {
    "height": "276.4px",
    "left": "398px",
    "right": "20px",
    "top": "120px",
    "width": "350px"
   },
   "types_to_exclude": [
    "module",
    "function",
    "builtin_function_or_method",
    "instance",
    "_Feature"
   ],
   "window_display": false
  }
 },
 "nbformat": 4,
 "nbformat_minor": 4
}
