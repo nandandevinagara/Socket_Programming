{
 "cells": [
  {
   "cell_type": "code",
   "execution_count": 2,
   "metadata": {
    "ExecuteTime": {
     "end_time": "2021-05-09T13:00:43.645452Z",
     "start_time": "2021-05-09T13:00:43.634150Z"
    }
   },
   "outputs": [],
   "source": [
    "import socket\n",
    "from datetime import datetime\n",
    "s=socket.socket(socket.AF_INET, socket.SOCK_STREAM)\n",
    "s.connect(('127.0.0.1', 4444))"
   ]
  },
  {
   "cell_type": "code",
   "execution_count": 9,
   "metadata": {
    "ExecuteTime": {
     "end_time": "2021-05-09T06:13:38.052565Z",
     "start_time": "2021-05-09T06:13:38.030792Z"
    }
   },
   "outputs": [
    {
     "data": {
      "text/plain": [
       "8"
      ]
     },
     "execution_count": 9,
     "metadata": {},
     "output_type": "execute_result"
    }
   ],
   "source": [
    "s.send(\"sending2\".encode('utf-8'))"
   ]
  },
  {
   "cell_type": "code",
   "execution_count": 3,
   "metadata": {
    "ExecuteTime": {
     "end_time": "2021-05-09T13:00:53.285135Z",
     "start_time": "2021-05-09T13:00:53.203237Z"
    }
   },
   "outputs": [
    {
     "name": "stdout",
     "output_type": "stream",
     "text": [
      "0 time= 2021-05-09 18:30:53.206601   var1=400\n",
      "1 time= 2021-05-09 18:30:53.206601   var1=800\n",
      "2 time= 2021-05-09 18:30:53.206601   var1=800\n",
      "3 time= 2021-05-09 18:30:53.206601   var1=800\n",
      "4 time= 2021-05-09 18:30:53.207637   var1=800\n",
      "5 time= 2021-05-09 18:30:53.207637   var1=800\n",
      "6 time= 2021-05-09 18:30:53.208635   var1=400\n",
      "7 time= 2021-05-09 18:30:53.208635   var1=800\n",
      "8 time= 2021-05-09 18:30:53.209632   var1=400\n",
      "9 time= 2021-05-09 18:30:53.210629   var1=800\n",
      "10 time= 2021-05-09 18:30:53.210629   var1=400\n",
      "11 time= 2021-05-09 18:30:53.211627   var1=800\n",
      "12 time= 2021-05-09 18:30:53.212626   var1=800\n",
      "13 time= 2021-05-09 18:30:53.212640   var1=800\n",
      "14 time= 2021-05-09 18:30:53.213638   var1=400\n",
      "15 time= 2021-05-09 18:30:53.213638   var1=800\n",
      "16 time= 2021-05-09 18:30:53.213638   var1=800\n",
      "17 time= 2021-05-09 18:30:53.215633   var1=800\n",
      "18 time= 2021-05-09 18:30:53.216630   var1=400\n",
      "19 time= 2021-05-09 18:30:53.216630   var1=800\n",
      "20 time= 2021-05-09 18:30:53.217627   var1=800\n",
      "21 time= 2021-05-09 18:30:53.217627   var1=800\n",
      "22 time= 2021-05-09 18:30:53.217627   var1=400\n",
      "23 time= 2021-05-09 18:30:53.218626   var1=800\n",
      "24 time= 2021-05-09 18:30:53.220639   var1=800\n",
      "25 time= 2021-05-09 18:30:53.222256   var1=800\n",
      "26 time= 2021-05-09 18:30:53.225250   var1=400\n",
      "27 time= 2021-05-09 18:30:53.225250   var1=800\n",
      "28 time= 2021-05-09 18:30:53.225250   var1=800\n",
      "29 time= 2021-05-09 18:30:53.226245   var1=800\n",
      "30 time= 2021-05-09 18:30:53.226245   var1=800\n",
      "31 time= 2021-05-09 18:30:53.226245   var1=800\n",
      "32 time= 2021-05-09 18:30:53.227243   var1=800\n",
      "33 time= 2021-05-09 18:30:53.228245   var1=800\n",
      "34 time= 2021-05-09 18:30:53.228245   var1=800\n",
      "35 time= 2021-05-09 18:30:53.229238   var1=800\n",
      "36 time= 2021-05-09 18:30:53.229238   var1=400\n",
      "37 time= 2021-05-09 18:30:53.230234   var1=800\n",
      "38 time= 2021-05-09 18:30:53.230234   var1=800\n",
      "39 time= 2021-05-09 18:30:53.232228   var1=800\n",
      "40 time= 2021-05-09 18:30:53.234223   var1=400\n",
      "41 time= 2021-05-09 18:30:53.234223   var1=800\n",
      "42 time= 2021-05-09 18:30:53.234223   var1=400\n",
      "43 time= 2021-05-09 18:30:53.235221   var1=800\n",
      "44 time= 2021-05-09 18:30:53.236226   var1=800\n",
      "45 time= 2021-05-09 18:30:53.237224   var1=800\n",
      "46 time= 2021-05-09 18:30:53.237224   var1=800\n",
      "47 time= 2021-05-09 18:30:53.237224   var1=800\n",
      "48 time= 2021-05-09 18:30:53.238220   var1=800\n",
      "49 time= 2021-05-09 18:30:53.239218   var1=800\n",
      "50 time= 2021-05-09 18:30:53.239218   var1=400\n",
      "51 time= 2021-05-09 18:30:53.240216   var1=800\n",
      "52 time= 2021-05-09 18:30:53.241213   var1=400\n",
      "53 time= 2021-05-09 18:30:53.242231   var1=800\n",
      "54 time= 2021-05-09 18:30:53.243229   var1=400\n",
      "55 time= 2021-05-09 18:30:53.244226   var1=800\n",
      "56 time= 2021-05-09 18:30:53.244226   var1=800\n",
      "57 time= 2021-05-09 18:30:53.244226   var1=800\n",
      "58 time= 2021-05-09 18:30:53.245223   var1=400\n",
      "59 time= 2021-05-09 18:30:53.246220   var1=800\n",
      "60 time= 2021-05-09 18:30:53.247218   var1=400\n",
      "61 time= 2021-05-09 18:30:53.248215   var1=800\n",
      "62 time= 2021-05-09 18:30:53.249212   var1=800\n",
      "63 time= 2021-05-09 18:30:53.249212   var1=800\n",
      "64 time= 2021-05-09 18:30:53.250210   var1=400\n",
      "65 time= 2021-05-09 18:30:53.250210   var1=800\n",
      "66 time= 2021-05-09 18:30:53.251207   var1=800\n",
      "67 time= 2021-05-09 18:30:53.252206   var1=800\n",
      "68 time= 2021-05-09 18:30:53.252206   var1=800\n",
      "69 time= 2021-05-09 18:30:53.253202   var1=800\n",
      "70 time= 2021-05-09 18:30:53.254199   var1=400\n",
      "71 time= 2021-05-09 18:30:53.254199   var1=800\n",
      "72 time= 2021-05-09 18:30:53.255197   var1=400\n",
      "73 time= 2021-05-09 18:30:53.256194   var1=800\n",
      "74 time= 2021-05-09 18:30:53.256194   var1=400\n",
      "75 time= 2021-05-09 18:30:53.257191   var1=800\n",
      "76 time= 2021-05-09 18:30:53.257191   var1=800\n",
      "77 time= 2021-05-09 18:30:53.258188   var1=800\n",
      "78 time= 2021-05-09 18:30:53.259186   var1=800\n",
      "79 time= 2021-05-09 18:30:53.259186   var1=800\n",
      "80 time= 2021-05-09 18:30:53.260183   var1=800\n",
      "81 time= 2021-05-09 18:30:53.260183   var1=800\n",
      "82 time= 2021-05-09 18:30:53.261181   var1=400\n",
      "83 time= 2021-05-09 18:30:53.262179   var1=800\n",
      "84 time= 2021-05-09 18:30:53.262179   var1=800\n",
      "85 time= 2021-05-09 18:30:53.263175   var1=800\n",
      "86 time= 2021-05-09 18:30:53.264172   var1=800\n",
      "87 time= 2021-05-09 18:30:53.264172   var1=800\n",
      "88 time= 2021-05-09 18:30:53.264172   var1=800\n",
      "89 time= 2021-05-09 18:30:53.266167   var1=800\n",
      "90 time= 2021-05-09 18:30:53.266167   var1=800\n",
      "91 time= 2021-05-09 18:30:53.267164   var1=800\n",
      "92 time= 2021-05-09 18:30:53.268179   var1=400\n",
      "93 time= 2021-05-09 18:30:53.269178   var1=800\n",
      "94 time= 2021-05-09 18:30:53.269178   var1=400\n",
      "95 time= 2021-05-09 18:30:53.270174   var1=800\n",
      "96 time= 2021-05-09 18:30:53.270174   var1=800\n",
      "97 time= 2021-05-09 18:30:53.271171   var1=800\n",
      "98 time= 2021-05-09 18:30:53.271171   var1=800\n",
      "99 time= 2021-05-09 18:30:53.272170   var1=800\n"
     ]
    }
   ],
   "source": [
    "for i in range(100):\n",
    "    if(i%2 == 0):\n",
    "        s.sendall(\"GET var1\".encode('utf-8'))\n",
    "    if(i%2 != 0):\n",
    "        s.sendall(\"SET var1=800\".encode('utf-8'))\n",
    "    ack=s.recv(1024)\n",
    "    current_date_time = datetime.now().strftime('%Y-%m-%d %H:%M:%S.%f')\n",
    "    print(i,\"time=\",current_date_time, \" \",ack.decode())"
   ]
  },
  {
   "cell_type": "code",
   "execution_count": 3,
   "metadata": {
    "ExecuteTime": {
     "end_time": "2021-05-09T12:20:07.243228Z",
     "start_time": "2021-05-09T12:20:07.236046Z"
    }
   },
   "outputs": [],
   "source": [
    "s.close()"
   ]
  }
 ],
 "metadata": {
  "kernelspec": {
   "display_name": "Python 3",
   "language": "python",
   "name": "python3"
  },
  "language_info": {
   "codemirror_mode": {
    "name": "ipython",
    "version": 3
   },
   "file_extension": ".py",
   "mimetype": "text/x-python",
   "name": "python",
   "nbconvert_exporter": "python",
   "pygments_lexer": "ipython3",
   "version": "3.7.6"
  },
  "varInspector": {
   "cols": {
    "lenName": 16,
    "lenType": 16,
    "lenVar": 40
   },
   "kernels_config": {
    "python": {
     "delete_cmd_postfix": "",
     "delete_cmd_prefix": "del ",
     "library": "var_list.py",
     "varRefreshCmd": "print(var_dic_list())"
    },
    "r": {
     "delete_cmd_postfix": ") ",
     "delete_cmd_prefix": "rm(",
     "library": "var_list.r",
     "varRefreshCmd": "cat(var_dic_list()) "
    }
   },
   "position": {
    "height": "276.4px",
    "left": "398px",
    "right": "20px",
    "top": "120px",
    "width": "350px"
   },
   "types_to_exclude": [
    "module",
    "function",
    "builtin_function_or_method",
    "instance",
    "_Feature"
   ],
   "window_display": false
  }
 },
 "nbformat": 4,
 "nbformat_minor": 4
}
