{
 "cells": [
  {
   "cell_type": "code",
   "execution_count": 1,
   "metadata": {
    "ExecuteTime": {
     "end_time": "2021-05-09T12:36:26.553919Z",
     "start_time": "2021-05-09T12:36:26.535011Z"
    }
   },
   "outputs": [],
   "source": [
    "import socket\n",
    "from datetime import datetime\n",
    "s=socket.socket(socket.AF_INET, socket.SOCK_STREAM)\n",
    "s.connect(('127.0.0.1', 4444))"
   ]
  },
  {
   "cell_type": "code",
   "execution_count": 9,
   "metadata": {
    "ExecuteTime": {
     "end_time": "2021-05-09T06:13:38.052565Z",
     "start_time": "2021-05-09T06:13:38.030792Z"
    }
   },
   "outputs": [
    {
     "data": {
      "text/plain": [
       "8"
      ]
     },
     "execution_count": 9,
     "metadata": {},
     "output_type": "execute_result"
    }
   ],
   "source": [
    "s.send(\"sending2\".encode('utf-8'))"
   ]
  },
  {
   "cell_type": "code",
   "execution_count": 2,
   "metadata": {
    "ExecuteTime": {
     "end_time": "2021-05-09T12:36:28.496288Z",
     "start_time": "2021-05-09T12:36:28.474341Z"
    }
   },
   "outputs": [
    {
     "name": "stdout",
     "output_type": "stream",
     "text": [
      "0 time= 2021-05-09 18:06:28.480722  ack=  var1=100\n",
      "1 time= 2021-05-09 18:06:28.482351  ack=  var1=300\n",
      "2 time= 2021-05-09 18:06:28.484315  ack=  var1=300\n",
      "3 time= 2021-05-09 18:06:28.485311  ack=  var1=300\n",
      "4 time= 2021-05-09 18:06:28.485311  ack=  var1=300\n",
      "5 time= 2021-05-09 18:06:28.486309  ack=  var1=300\n",
      "6 time= 2021-05-09 18:06:28.487306  ack=  var1=300\n",
      "7 time= 2021-05-09 18:06:28.487306  ack=  var1=300\n",
      "8 time= 2021-05-09 18:06:28.489301  ack=  var1=300\n",
      "9 time= 2021-05-09 18:06:28.490300  ack=  var1=300\n"
     ]
    }
   ],
   "source": [
    "for i in range(10):\n",
    "    if(i%2 == 0):\n",
    "        s.sendall(\"GET var1\".encode('utf-8'))\n",
    "    if(i%2 != 0):\n",
    "        s.sendall(\"SET var1=300\".encode('utf-8'))\n",
    "    ack=s.recv(1024)\n",
    "    current_date_time = datetime.now().strftime('%Y-%m-%d %H:%M:%S.%f')\n",
    "    print(i,\"time=\",current_date_time, \" \",ack.decode())"
   ]
  },
  {
   "cell_type": "code",
   "execution_count": 3,
   "metadata": {
    "ExecuteTime": {
     "end_time": "2021-05-09T12:20:07.243228Z",
     "start_time": "2021-05-09T12:20:07.236046Z"
    }
   },
   "outputs": [],
   "source": [
    "s.close()"
   ]
  }
 ],
 "metadata": {
  "kernelspec": {
   "display_name": "Python 3",
   "language": "python",
   "name": "python3"
  },
  "language_info": {
   "codemirror_mode": {
    "name": "ipython",
    "version": 3
   },
   "file_extension": ".py",
   "mimetype": "text/x-python",
   "name": "python",
   "nbconvert_exporter": "python",
   "pygments_lexer": "ipython3",
   "version": "3.7.6"
  },
  "varInspector": {
   "cols": {
    "lenName": 16,
    "lenType": 16,
    "lenVar": 40
   },
   "kernels_config": {
    "python": {
     "delete_cmd_postfix": "",
     "delete_cmd_prefix": "del ",
     "library": "var_list.py",
     "varRefreshCmd": "print(var_dic_list())"
    },
    "r": {
     "delete_cmd_postfix": ") ",
     "delete_cmd_prefix": "rm(",
     "library": "var_list.r",
     "varRefreshCmd": "cat(var_dic_list()) "
    }
   },
   "position": {
    "height": "276.4px",
    "left": "398px",
    "right": "20px",
    "top": "120px",
    "width": "350px"
   },
   "types_to_exclude": [
    "module",
    "function",
    "builtin_function_or_method",
    "instance",
    "_Feature"
   ],
   "window_display": false
  }
 },
 "nbformat": 4,
 "nbformat_minor": 4
}
